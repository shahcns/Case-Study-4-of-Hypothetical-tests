{
 "cells": [
  {
   "cell_type": "code",
   "execution_count": 11,
   "id": "c6c54f86",
   "metadata": {},
   "outputs": [],
   "source": [
    "import pandas as pd\n",
    "import numpy as np\n",
    "import seaborn as sns"
   ]
  },
  {
   "cell_type": "markdown",
   "id": "0f3af49b",
   "metadata": {},
   "source": [
    "## Load data for performing appropriate hypothetical study."
   ]
  },
  {
   "cell_type": "code",
   "execution_count": 3,
   "id": "5caec1c4",
   "metadata": {},
   "outputs": [
    {
     "data": {
      "text/html": [
       "<div>\n",
       "<style scoped>\n",
       "    .dataframe tbody tr th:only-of-type {\n",
       "        vertical-align: middle;\n",
       "    }\n",
       "\n",
       "    .dataframe tbody tr th {\n",
       "        vertical-align: top;\n",
       "    }\n",
       "\n",
       "    .dataframe thead th {\n",
       "        text-align: right;\n",
       "    }\n",
       "</style>\n",
       "<table border=\"1\" class=\"dataframe\">\n",
       "  <thead>\n",
       "    <tr style=\"text-align: right;\">\n",
       "      <th></th>\n",
       "      <th>Month</th>\n",
       "      <th>Region</th>\n",
       "      <th>Manager</th>\n",
       "      <th>Sales_before_digital_add(in $)</th>\n",
       "      <th>Sales_After_digital_add(in $)</th>\n",
       "    </tr>\n",
       "  </thead>\n",
       "  <tbody>\n",
       "    <tr>\n",
       "      <th>0</th>\n",
       "      <td>Month-1</td>\n",
       "      <td>Region - A</td>\n",
       "      <td>Manager - A</td>\n",
       "      <td>132921</td>\n",
       "      <td>270390</td>\n",
       "    </tr>\n",
       "    <tr>\n",
       "      <th>1</th>\n",
       "      <td>Month-2</td>\n",
       "      <td>Region - A</td>\n",
       "      <td>Manager - C</td>\n",
       "      <td>149559</td>\n",
       "      <td>223334</td>\n",
       "    </tr>\n",
       "    <tr>\n",
       "      <th>2</th>\n",
       "      <td>Month-3</td>\n",
       "      <td>Region - B</td>\n",
       "      <td>Manager - A</td>\n",
       "      <td>146278</td>\n",
       "      <td>244243</td>\n",
       "    </tr>\n",
       "    <tr>\n",
       "      <th>3</th>\n",
       "      <td>Month-4</td>\n",
       "      <td>Region - B</td>\n",
       "      <td>Manager - B</td>\n",
       "      <td>152167</td>\n",
       "      <td>231808</td>\n",
       "    </tr>\n",
       "    <tr>\n",
       "      <th>4</th>\n",
       "      <td>Month-5</td>\n",
       "      <td>Region - C</td>\n",
       "      <td>Manager - B</td>\n",
       "      <td>159525</td>\n",
       "      <td>258402</td>\n",
       "    </tr>\n",
       "  </tbody>\n",
       "</table>\n",
       "</div>"
      ],
      "text/plain": [
       "     Month      Region      Manager  Sales_before_digital_add(in $)  \\\n",
       "0  Month-1  Region - A  Manager - A                          132921   \n",
       "1  Month-2  Region - A  Manager - C                          149559   \n",
       "2  Month-3  Region - B  Manager - A                          146278   \n",
       "3  Month-4  Region - B  Manager - B                          152167   \n",
       "4  Month-5  Region - C  Manager - B                          159525   \n",
       "\n",
       "   Sales_After_digital_add(in $)  \n",
       "0                         270390  \n",
       "1                         223334  \n",
       "2                         244243  \n",
       "3                         231808  \n",
       "4                         258402  "
      ]
     },
     "execution_count": 3,
     "metadata": {},
     "output_type": "execute_result"
    }
   ],
   "source": [
    "salead=pd.read_csv(\"C:/Users/Lenovo/OneDrive/Desktop/ICT Academy/CS04 Sales_add.csv\")\n",
    "salead.head(5)"
   ]
  },
  {
   "cell_type": "markdown",
   "id": "a81fce4e",
   "metadata": {},
   "source": [
    "## checking data"
   ]
  },
  {
   "cell_type": "code",
   "execution_count": 8,
   "id": "94d1e3b6",
   "metadata": {},
   "outputs": [
    {
     "data": {
      "text/plain": [
       "Month                             0\n",
       "Region                            0\n",
       "Manager                           0\n",
       "Sales_before_digital_add(in $)    0\n",
       "Sales_After_digital_add(in $)     0\n",
       "dtype: int64"
      ]
     },
     "execution_count": 8,
     "metadata": {},
     "output_type": "execute_result"
    }
   ],
   "source": [
    "salead.isna().sum()"
   ]
  },
  {
   "cell_type": "code",
   "execution_count": 9,
   "id": "2a2e6de4",
   "metadata": {},
   "outputs": [
    {
     "name": "stdout",
     "output_type": "stream",
     "text": [
      "<class 'pandas.core.frame.DataFrame'>\n",
      "RangeIndex: 22 entries, 0 to 21\n",
      "Data columns (total 5 columns):\n",
      " #   Column                          Non-Null Count  Dtype \n",
      "---  ------                          --------------  ----- \n",
      " 0   Month                           22 non-null     object\n",
      " 1   Region                          22 non-null     object\n",
      " 2   Manager                         22 non-null     object\n",
      " 3   Sales_before_digital_add(in $)  22 non-null     int64 \n",
      " 4   Sales_After_digital_add(in $)   22 non-null     int64 \n",
      "dtypes: int64(2), object(3)\n",
      "memory usage: 1008.0+ bytes\n"
     ]
    }
   ],
   "source": [
    "salead.info()"
   ]
  },
  {
   "cell_type": "markdown",
   "id": "ace9402b",
   "metadata": {},
   "source": [
    "Which is clear that there is no missing values in given data.<br>\n",
    "Also we can say that here we have three of string values and another column of integer values.<br>\n",
    "From the provided data it is clear that the sample size, n = 22."
   ]
  },
  {
   "cell_type": "code",
   "execution_count": 10,
   "id": "a5fbda34",
   "metadata": {},
   "outputs": [
    {
     "data": {
      "text/html": [
       "<div>\n",
       "<style scoped>\n",
       "    .dataframe tbody tr th:only-of-type {\n",
       "        vertical-align: middle;\n",
       "    }\n",
       "\n",
       "    .dataframe tbody tr th {\n",
       "        vertical-align: top;\n",
       "    }\n",
       "\n",
       "    .dataframe thead th {\n",
       "        text-align: right;\n",
       "    }\n",
       "</style>\n",
       "<table border=\"1\" class=\"dataframe\">\n",
       "  <thead>\n",
       "    <tr style=\"text-align: right;\">\n",
       "      <th></th>\n",
       "      <th>Sales_before_digital_add(in $)</th>\n",
       "      <th>Sales_After_digital_add(in $)</th>\n",
       "    </tr>\n",
       "  </thead>\n",
       "  <tbody>\n",
       "    <tr>\n",
       "      <th>count</th>\n",
       "      <td>22.000000</td>\n",
       "      <td>22.000000</td>\n",
       "    </tr>\n",
       "    <tr>\n",
       "      <th>mean</th>\n",
       "      <td>149239.954545</td>\n",
       "      <td>231123.727273</td>\n",
       "    </tr>\n",
       "    <tr>\n",
       "      <th>std</th>\n",
       "      <td>14844.042921</td>\n",
       "      <td>25556.777061</td>\n",
       "    </tr>\n",
       "    <tr>\n",
       "      <th>min</th>\n",
       "      <td>130263.000000</td>\n",
       "      <td>187305.000000</td>\n",
       "    </tr>\n",
       "    <tr>\n",
       "      <th>25%</th>\n",
       "      <td>138087.750000</td>\n",
       "      <td>214960.750000</td>\n",
       "    </tr>\n",
       "    <tr>\n",
       "      <th>50%</th>\n",
       "      <td>147444.000000</td>\n",
       "      <td>229986.500000</td>\n",
       "    </tr>\n",
       "    <tr>\n",
       "      <th>75%</th>\n",
       "      <td>157627.500000</td>\n",
       "      <td>250909.000000</td>\n",
       "    </tr>\n",
       "    <tr>\n",
       "      <th>max</th>\n",
       "      <td>178939.000000</td>\n",
       "      <td>276279.000000</td>\n",
       "    </tr>\n",
       "  </tbody>\n",
       "</table>\n",
       "</div>"
      ],
      "text/plain": [
       "       Sales_before_digital_add(in $)  Sales_After_digital_add(in $)\n",
       "count                       22.000000                      22.000000\n",
       "mean                    149239.954545                  231123.727273\n",
       "std                      14844.042921                   25556.777061\n",
       "min                     130263.000000                  187305.000000\n",
       "25%                     138087.750000                  214960.750000\n",
       "50%                     147444.000000                  229986.500000\n",
       "75%                     157627.500000                  250909.000000\n",
       "max                     178939.000000                  276279.000000"
      ]
     },
     "execution_count": 10,
     "metadata": {},
     "output_type": "execute_result"
    }
   ],
   "source": [
    "salead.describe()"
   ]
  },
  {
   "cell_type": "markdown",
   "id": "b85b806c",
   "metadata": {},
   "source": [
    "# 1. To perform Paired or dependent T-test"
   ]
  },
  {
   "cell_type": "code",
   "execution_count": 29,
   "id": "e6ee3834",
   "metadata": {},
   "outputs": [],
   "source": [
    "b=salead['Sales_before_digital_add(in $)']\n",
    "a=salead['Sales_After_digital_add(in $)']"
   ]
  },
  {
   "cell_type": "markdown",
   "id": "cdeaed17",
   "metadata": {},
   "source": [
    "### Checking Assumption of Normality"
   ]
  },
  {
   "cell_type": "code",
   "execution_count": 33,
   "id": "153954bc",
   "metadata": {},
   "outputs": [
    {
     "data": {
      "text/plain": [
       "<AxesSubplot:xlabel='Sales_After_digital_add(in $)'>"
      ]
     },
     "execution_count": 33,
     "metadata": {},
     "output_type": "execute_result"
    },
    {
     "data": {
      "image/png": "[encoded data removed]",
      "text/plain": [
       "<Figure size 432x288 with 1 Axes>"
      ]
     },
     "metadata": {
      "needs_background": "light"
     },
     "output_type": "display_data"
    }
   ],
   "source": [
    "sns.boxplot(x=a,data=salead)"
   ]
  },
  {
   "cell_type": "code",
   "execution_count": 34,
   "id": "8543ae6d",
   "metadata": {},
   "outputs": [
    {
     "data": {
      "text/plain": [
       "<AxesSubplot:xlabel='Sales_before_digital_add(in $)'>"
      ]
     },
     "execution_count": 34,
     "metadata": {},
     "output_type": "execute_result"
    },
    {
     "data": {
      "image/png": "[encoded data removed]",
      "text/plain": [
       "<Figure size 432x288 with 1 Axes>"
      ]
     },
     "metadata": {
      "needs_background": "light"
     },
     "output_type": "display_data"
    }
   ],
   "source": [
    "sns.boxplot(x=b,data=salead)"
   ]
  },
  {
   "cell_type": "markdown",
   "id": "4e259fb3",
   "metadata": {},
   "source": [
    "**Interpretation:-**<br>\n",
    "Since we can see that min and max value of sales after are 187305, 276279 respectively and since when both min and max values are lies inside the limits we can say that there is no outliers exits. And the min and max value of sales before are 130263, 178939 respectively and since when both min and max values are lies inside the limits we can say that there is no outliers exits.<br>\n",
    "Also we can assume that both are approximately symmetrically distributed.<br>\n",
    "Assume that samples are iid."
   ]
  },
  {
   "cell_type": "markdown",
   "id": "2b5de049",
   "metadata": {},
   "source": [
    "## Paired t test."
   ]
  },
  {
   "cell_type": "markdown",
   "id": "37d3387b",
   "metadata": {},
   "source": [
    "We can use paired t test using two ways.<br>\n",
    "(i) Paired t test using SciPy <br>\n",
    "(ii) Paired t test using Pingouin <br>"
   ]
  },
  {
   "cell_type": "markdown",
   "id": "92e7104a",
   "metadata": {},
   "source": [
    "### (i) Using Scipy"
   ]
  },
  {
   "cell_type": "code",
   "execution_count": 64,
   "id": "3d452466",
   "metadata": {},
   "outputs": [],
   "source": [
    "from scipy.stats import ttest_rel\n",
    "t_test,p_value=ttest_rel(a, b,alternative='less')\n"
   ]
  },
  {
   "cell_type": "code",
   "execution_count": 65,
   "id": "2d6212d8",
   "metadata": {},
   "outputs": [
    {
     "name": "stdout",
     "output_type": "stream",
     "text": [
      "test statistic =  12.091\n"
     ]
    }
   ],
   "source": [
    "print('test statistic = ','%.3f'%t_test)"
   ]
  },
  {
   "cell_type": "code",
   "execution_count": 66,
   "id": "9cf6eece",
   "metadata": {},
   "outputs": [
    {
     "name": "stdout",
     "output_type": "stream",
     "text": [
      "p-value =  1.0000\n"
     ]
    }
   ],
   "source": [
    "print('p-value = ','%.4f'%p_value)"
   ]
  },
  {
   "cell_type": "markdown",
   "id": "2d127453",
   "metadata": {},
   "source": [
    "### (i) Using Pingouin"
   ]
  },
  {
   "cell_type": "code",
   "execution_count": 67,
   "id": "fac17f6e",
   "metadata": {},
   "outputs": [
    {
     "data": {
      "text/html": [
       "<div>\n",
       "<style scoped>\n",
       "    .dataframe tbody tr th:only-of-type {\n",
       "        vertical-align: middle;\n",
       "    }\n",
       "\n",
       "    .dataframe tbody tr th {\n",
       "        vertical-align: top;\n",
       "    }\n",
       "\n",
       "    .dataframe thead th {\n",
       "        text-align: right;\n",
       "    }\n",
       "</style>\n",
       "<table border=\"1\" class=\"dataframe\">\n",
       "  <thead>\n",
       "    <tr style=\"text-align: right;\">\n",
       "      <th></th>\n",
       "      <th>T</th>\n",
       "      <th>dof</th>\n",
       "      <th>alternative</th>\n",
       "      <th>p-val</th>\n",
       "      <th>CI95%</th>\n",
       "      <th>cohen-d</th>\n",
       "      <th>BF10</th>\n",
       "      <th>power</th>\n",
       "    </tr>\n",
       "  </thead>\n",
       "  <tbody>\n",
       "    <tr>\n",
       "      <th>T-test</th>\n",
       "      <td>12.090705</td>\n",
       "      <td>21</td>\n",
       "      <td>less</td>\n",
       "      <td>1.0</td>\n",
       "      <td>[-inf, 93537.43]</td>\n",
       "      <td>3.918165</td>\n",
       "      <td>3.444e-09</td>\n",
       "      <td>9.887039e-76</td>\n",
       "    </tr>\n",
       "  </tbody>\n",
       "</table>\n",
       "</div>"
      ],
      "text/plain": [
       "                T  dof alternative  p-val             CI95%   cohen-d  \\\n",
       "T-test  12.090705   21        less    1.0  [-inf, 93537.43]  3.918165   \n",
       "\n",
       "             BF10         power  \n",
       "T-test  3.444e-09  9.887039e-76  "
      ]
     },
     "execution_count": 67,
     "metadata": {},
     "output_type": "execute_result"
    }
   ],
   "source": [
    "import pingouin as pt\n",
    "pt.ttest(a,b, paired=True,alternative='less')"
   ]
  },
  {
   "cell_type": "markdown",
   "id": "6d235a01",
   "metadata": {},
   "source": [
    "## 5 Step Hypothesis:"
   ]
  },
  {
   "cell_type": "markdown",
   "id": "c64d1334",
   "metadata": {},
   "source": [
    "we assume all conditions are met. Let µd be the true population mean difference between beginning and end.<br>\n",
    "That is Difference, di = after – before <br>\n",
    "Here we use standard significance level, α = 0.05"
   ]
  },
  {
   "cell_type": "markdown",
   "id": "0cf7a3ea",
   "metadata": {},
   "source": [
    "#### STEP 1. HYPOTHESIS\n",
    "\n",
    "Here the claim is that the true population mean difference is greater than 0 (that means increase in sales after implemnetation new policy). Against alternative claim is that the true population mean difference is equal to 0 (after implementation of policy sales hasn't increase)<br>\n",
    "Hypothesis:<br>\n",
    "Null hypothesis,             H0: µd = 0 <br>\n",
    "Alternative hypothesis,      Ha: µd > 0 <br>\n",
    "(This is a left tailed test)"
   ]
  },
  {
   "cell_type": "markdown",
   "id": "c827c626",
   "metadata": {},
   "source": [
    "#### STEP 2. TEST STATISTIC\n",
    "\n",
    "\n",
    "test statistic, T = 12.09"
   ]
  },
  {
   "cell_type": "markdown",
   "id": "fa2b3f38",
   "metadata": {},
   "source": [
    "#### STEP 3. P-VALUE\n",
    "\n",
    "P-value = 0"
   ]
  },
  {
   "cell_type": "markdown",
   "id": "945ea057",
   "metadata": {},
   "source": [
    "#### STEP 4. DECISION\n",
    "\n",
    "Since the P-value = 0 < α = 0.05, we can conclude that the reject the null hypothesis (H0)."
   ]
  },
  {
   "cell_type": "markdown",
   "id": "4c09bfaf",
   "metadata": {},
   "source": [
    "#### STEP 5. CONCLUSION\n",
    "\n",
    "At 5% level of significance. There is sufficient enough evidence to support the claim that the after implementation (after steeping into digital marketing) there is increase in sales."
   ]
  },
  {
   "cell_type": "markdown",
   "id": "865c2e57",
   "metadata": {},
   "source": [
    "# 2. To checking whether the Region and Manger are dependent or not."
   ]
  },
  {
   "cell_type": "markdown",
   "id": "3ac6ee27",
   "metadata": {},
   "source": [
    "## Creating a 3 * 3 contengency table."
   ]
  },
  {
   "cell_type": "code",
   "execution_count": 69,
   "id": "f8529f97",
   "metadata": {},
   "outputs": [
    {
     "data": {
      "text/html": [
       "<div>\n",
       "<style scoped>\n",
       "    .dataframe tbody tr th:only-of-type {\n",
       "        vertical-align: middle;\n",
       "    }\n",
       "\n",
       "    .dataframe tbody tr th {\n",
       "        vertical-align: top;\n",
       "    }\n",
       "\n",
       "    .dataframe thead th {\n",
       "        text-align: right;\n",
       "    }\n",
       "</style>\n",
       "<table border=\"1\" class=\"dataframe\">\n",
       "  <thead>\n",
       "    <tr style=\"text-align: right;\">\n",
       "      <th>Manager</th>\n",
       "      <th>Manager - A</th>\n",
       "      <th>Manager - B</th>\n",
       "      <th>Manager - C</th>\n",
       "      <th>All</th>\n",
       "    </tr>\n",
       "    <tr>\n",
       "      <th>Region</th>\n",
       "      <th></th>\n",
       "      <th></th>\n",
       "      <th></th>\n",
       "      <th></th>\n",
       "    </tr>\n",
       "  </thead>\n",
       "  <tbody>\n",
       "    <tr>\n",
       "      <th>Region - A</th>\n",
       "      <td>4</td>\n",
       "      <td>3</td>\n",
       "      <td>3</td>\n",
       "      <td>10</td>\n",
       "    </tr>\n",
       "    <tr>\n",
       "      <th>Region - B</th>\n",
       "      <td>4</td>\n",
       "      <td>1</td>\n",
       "      <td>2</td>\n",
       "      <td>7</td>\n",
       "    </tr>\n",
       "    <tr>\n",
       "      <th>Region - C</th>\n",
       "      <td>1</td>\n",
       "      <td>3</td>\n",
       "      <td>1</td>\n",
       "      <td>5</td>\n",
       "    </tr>\n",
       "    <tr>\n",
       "      <th>All</th>\n",
       "      <td>9</td>\n",
       "      <td>7</td>\n",
       "      <td>6</td>\n",
       "      <td>22</td>\n",
       "    </tr>\n",
       "  </tbody>\n",
       "</table>\n",
       "</div>"
      ],
      "text/plain": [
       "Manager     Manager - A  Manager - B  Manager - C  All\n",
       "Region                                                \n",
       "Region - A            4            3            3   10\n",
       "Region - B            4            1            2    7\n",
       "Region - C            1            3            1    5\n",
       "All                   9            7            6   22"
      ]
     },
     "execution_count": 69,
     "metadata": {},
     "output_type": "execute_result"
    }
   ],
   "source": [
    "cont_tab=pd.crosstab(salead[\"Region\"],salead[\"Manager\"],margins=True)\n",
    "cont_tab"
   ]
  },
  {
   "cell_type": "markdown",
   "id": "dd052928",
   "metadata": {},
   "source": [
    "## Chi-square test for independence."
   ]
  },
  {
   "cell_type": "code",
   "execution_count": 84,
   "id": "6fc4deca",
   "metadata": {},
   "outputs": [],
   "source": [
    "from scipy.stats import chi2_contingency\n",
    "t_test,p_value,df,ex=chi2_contingency(cont_tab, correction=False)"
   ]
  },
  {
   "cell_type": "code",
   "execution_count": null,
   "id": "fb7ad237",
   "metadata": {},
   "outputs": [],
   "source": [
    "print"
   ]
  },
  {
   "cell_type": "markdown",
   "id": "a8bc14f7",
   "metadata": {},
   "source": [
    "## 5 Step Hypothesis:"
   ]
  },
  {
   "cell_type": "markdown",
   "id": "5fb78f13",
   "metadata": {},
   "source": [
    "#### STEP 1. Hypothesis:\n",
    "\n",
    "H0: There is no relationship between Regions and Managers (independent)\n",
    "H1: There is relationship between Regions and Managers (dependent)\n",
    "(This is a right tailed test)\n"
   ]
  },
  {
   "cell_type": "markdown",
   "id": "603a1768",
   "metadata": {},
   "source": [
    "#### STEP 2. TEST STATISTICS"
   ]
  },
  {
   "cell_type": "code",
   "execution_count": 86,
   "id": "140eccb7",
   "metadata": {},
   "outputs": [
    {
     "name": "stdout",
     "output_type": "stream",
     "text": [
      "χ2 = 3.051\n"
     ]
    }
   ],
   "source": [
    "print('χ2 =','%.3f'%t_test)"
   ]
  },
  {
   "cell_type": "markdown",
   "id": "c5fc2508",
   "metadata": {},
   "source": [
    "#### STEP 3. P VALUE"
   ]
  },
  {
   "cell_type": "code",
   "execution_count": 87,
   "id": "2d8094b1",
   "metadata": {},
   "outputs": [
    {
     "name": "stdout",
     "output_type": "stream",
     "text": [
      "p value = 0.9623\n"
     ]
    }
   ],
   "source": [
    "print('p value =','%.4f'%p_value)"
   ]
  },
  {
   "cell_type": "markdown",
   "id": "aedac06e",
   "metadata": {},
   "source": [
    "#### STEP 4. DECISION\n",
    "\n",
    "Since the P-value = 0.9623 > α = 0.05, we can conclude that the we failed to reject the null hypothesis (H0)."
   ]
  },
  {
   "cell_type": "markdown",
   "id": "8be70291",
   "metadata": {},
   "source": [
    "#### CONCLUSION:\n",
    "\n",
    "At 5% level of significance. There is no sufficient enough evidence to support the claim that there is no dependency between the features **Regions** and **Managers**\n"
   ]
  }
 ],
 "metadata": {
  "kernelspec": {
   "display_name": "Python 3",
   "language": "python",
   "name": "python3"
  },
  "language_info": {
   "codemirror_mode": {
    "name": "ipython",
    "version": 3
   },
   "file_extension": ".py",
   "mimetype": "text/x-python",
   "name": "python",
   "nbconvert_exporter": "python",
   "pygments_lexer": "ipython3",
   "version": "3.8.8"
  }
 },
 "nbformat": 4,
 "nbformat_minor": 5
}
